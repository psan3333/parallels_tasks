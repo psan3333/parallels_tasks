{
  "nbformat": 4,
  "nbformat_minor": 0,
  "metadata": {
    "colab": {
      "provenance": []
    },
    "kernelspec": {
      "name": "python3",
      "display_name": "Python 3"
    },
    "language_info": {
      "name": "python"
    }
  },
  "cells": [
    {
      "cell_type": "code",
      "source": [
        "import torch\n",
        "import torch.nn as nn\n",
        "import numpy as np\n",
        "\n",
        "class Net(nn.Module):\n",
        "\n",
        "    def __init__(self):\n",
        "\n",
        "         super(Net, self).__init__()\n",
        "\n",
        "         self.fc1 = nn.Linear(32**2, 16**2) # входной слой\n",
        "\n",
        "         self.fc2 = nn.Linear(16**2, 4**2) # скрытый слой\n",
        "\n",
        "         self.fc3 = nn.Linear(4 ** 2,1) # скрытый слой\n",
        "\n",
        "# прямое распространение информации\n",
        "\n",
        "    def forward(self, x):\n",
        "        sigmoid = nn.Sigmoid()\n",
        "\n",
        "        x = sigmoid(self.fc1(x))\n",
        "\n",
        "        x = sigmoid(self.fc2(x))\n",
        "\n",
        "        x = sigmoid(self.fc3(x))\n",
        "\n",
        "        return x\n",
        "\n",
        "    def apply_weights(self):\n",
        "        weights1 = np.load(\"/content/npy_weights0.npy\")\n",
        "        weights2 = np.load(\"/content/npy_weights2.npy\")\n",
        "        weights3 = np.load(\"/content/npy_weights4.npy\")\n",
        "        with torch.no_grad():\n",
        "          self.fc1.weight.copy_(torch.tensor(weights1))\n",
        "          self.fc2.weight.copy_(torch.tensor(weights2))\n",
        "          self.fc3.weight.copy_(torch.tensor(weights3))\n",
        "          self.fc1.bias.copy_(torch.tensor(0))\n",
        "          self.fc2.bias.copy_(torch.tensor(0))\n",
        "          self.fc3.bias.copy_(torch.tensor(0))\n",
        "        \n",
        "\n",
        "\n",
        "# input_layer = torch.rand(32**2) # входные данные нейронной сети\n",
        "\n",
        "# net = Net() # создание объекта \"нейронная сеть\"\n",
        "\n",
        "# result = net(input_layer) # запуск прямого распространения информации\n",
        "# torch.save(input_layer, \"./data.npy\")\n",
        "# net.save_weights()\n",
        "device = 'cuda' if torch.cuda.is_available() else 'cpu'\n",
        "net2 = Net()\n",
        "net2.apply_weights()\n",
        "with torch.no_grad():\n",
        "  input_layer = np.load(\"/content/data_input.npy\")\n",
        "net2.to(device)"
      ],
      "metadata": {
        "colab": {
          "base_uri": "https://localhost:8080/"
        },
        "id": "6nWhOU6dRbTh",
        "outputId": "3eea4061-57e9-482e-f4cc-2324b227c04e"
      },
      "execution_count": 44,
      "outputs": [
        {
          "output_type": "execute_result",
          "data": {
            "text/plain": [
              "Net(\n",
              "  (fc1): Linear(in_features=1024, out_features=256, bias=True)\n",
              "  (fc2): Linear(in_features=256, out_features=16, bias=True)\n",
              "  (fc3): Linear(in_features=16, out_features=1, bias=True)\n",
              ")"
            ]
          },
          "metadata": {},
          "execution_count": 44
        }
      ]
    },
    {
      "cell_type": "code",
      "source": [
        "%%time\n",
        "with torch.no_grad():\n",
        "  print(net2(torch.tensor(input_layer)).numpy()[0])\n",
        "  print(input_layer)"
      ],
      "metadata": {
        "colab": {
          "base_uri": "https://localhost:8080/"
        },
        "id": "ZWmckyBTSNHt",
        "outputId": "35f768a7-8f34-43d1-d714-151547c56961"
      },
      "execution_count": 45,
      "outputs": [
        {
          "output_type": "stream",
          "name": "stdout",
          "text": [
            "0.5373822\n",
            "[0.03337687 0.8173605  0.55374175 ... 0.4481973  0.4330709  0.7565855 ]\n",
            "CPU times: user 1.54 ms, sys: 0 ns, total: 1.54 ms\n",
            "Wall time: 1.55 ms\n"
          ]
        }
      ]
    }
  ]
}